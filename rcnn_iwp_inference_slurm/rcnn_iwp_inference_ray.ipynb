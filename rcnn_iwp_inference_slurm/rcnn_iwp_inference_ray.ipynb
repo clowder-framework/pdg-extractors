{
 "cells": [
  {
   "cell_type": "code",
   "execution_count": 1,
   "metadata": {},
   "outputs": [],
   "source": [
    "import logging\n",
    "import subprocess\n",
    "import json\n",
    "import argparse\n",
    "from typing import Dict, List\n",
    "import shutil\n",
    "import ray\n",
    "from ray.util import ActorPool\n",
    "import os\n",
    "import sys\n",
    "import gc\n",
    "\n",
    "from rcnn_iwp_inference import load_model, get_metadata, run_inference\n"
   ]
  },
  {
   "cell_type": "code",
   "execution_count": 2,
   "metadata": {},
   "outputs": [],
   "source": [
    "@ray.remote(num_cpus=1, memory=4 * 1024 * 1024 * 1024)\n",
    "class ImageInferenceActor:\n",
    "    def __init__(self, model_ref, metadata_ref):\n",
    "        self.model = model_ref\n",
    "        self.metadata = metadata_ref\n",
    "\n",
    "    def process_image(self, image_path, threshold, output_folder, worker_id):\n",
    "        try:\n",
    "            print(f\"Worker {worker_id} running inference on {image_path}\")\n",
    "            \n",
    "            image_file = os.path.basename(image_path)\n",
    "            \n",
    "            # Create unique temporary output file using worker_id and image name\n",
    "            temp_output_file = f\"output_{worker_id}_{image_file}.jpg\"\n",
    "            \n",
    "            # Run inference with custom output path\n",
    "            coco_mask_metadata = run_inference(\n",
    "                self.model, \n",
    "                image_path, \n",
    "                self.metadata, \n",
    "                threshold=threshold, \n",
    "                output_file=temp_output_file\n",
    "            )\n",
    "            \n",
    "            # Create output file path\n",
    "            output_file = os.path.join(output_folder, f\"{image_file.split('.')[0]}_masked.jpg\")\n",
    "            \n",
    "            # Copy the output image to the output folder\n",
    "            shutil.copy(temp_output_file, output_file)\n",
    "            os.remove(temp_output_file)\n",
    "            \n",
    "            # Force garbage collection to free memory\n",
    "            gc.collect()\n",
    "            \n",
    "            return {\"file\": image_file, \"metadata\": coco_mask_metadata, \"output_file\": output_file}\n",
    "        except Exception as e:\n",
    "            print(f\"Error processing image {image_path}: {e}\")\n",
    "            # Force garbage collection even on error\n",
    "            gc.collect()\n",
    "            return {\"file\": os.path.basename(image_path), \"error\": str(e)}"
   ]
  },
  {
   "cell_type": "code",
   "execution_count": 3,
   "metadata": {},
   "outputs": [
    {
     "name": "stderr",
     "output_type": "stream",
     "text": [
      "/home/mohanar2/.conda/envs/clowderenv/lib/python3.10/site-packages/albumentations/__init__.py:13: UserWarning: A new version of Albumentations is available: 2.0.8 (you have 1.4.15). Upgrade using: pip install -U albumentations. To disable automatic update checks, set the environment variable NO_ALBUMENTATIONS_UPDATE to 1.\n",
      "  check_for_updates()\n",
      "/home/mohanar2/.conda/envs/clowderenv/lib/python3.10/site-packages/timm/models/layers/__init__.py:48: FutureWarning: Importing from timm.models.layers is deprecated, please import via timm.layers\n",
      "  warnings.warn(f\"Importing from {__name__} is deprecated, please import via timm.layers\", FutureWarning)\n",
      "INFO:detectron2.checkpoint.detection_checkpoint:[DetectionCheckpointer] Loading from ./model_weights.pth ...\n",
      "INFO:fvcore.common.checkpoint:[Checkpointer] Loading from ./model_weights.pth ...\n"
     ]
    }
   ],
   "source": [
    "# Load the model\n",
    "\n",
    "model_file = \"./model_weights.pth\"\n",
    "model = load_model(\"configs/mask_rcnn_vitdet.py\", \"configs/datasets/iwp.py\", model_file)\n",
    "metadata = get_metadata(\"iwp_test\", \"data/iwp/iwp_test.json\")\n"
   ]
  },
  {
   "cell_type": "code",
   "execution_count": 4,
   "metadata": {},
   "outputs": [
    {
     "name": "stderr",
     "output_type": "stream",
     "text": [
      "2025-06-16 15:41:57,547\tINFO worker.py:1654 -- Connecting to existing Ray cluster at address: 192.168.100.25:6379...\n",
      "2025-06-16 15:41:57,561\tINFO worker.py:1832 -- Connected to Ray cluster. View the dashboard at \u001b[1m\u001b[32m127.0.0.1:8265 \u001b[39m\u001b[22m\n"
     ]
    },
    {
     "data": {
      "application/vnd.jupyter.widget-view+json": {
       "model_id": "8cb2f9caec2540489b63b89d7a0e08bd",
       "version_major": 2,
       "version_minor": 0
      },
      "text/html": [
       "<div class=\"lm-Widget p-Widget lm-Panel p-Panel jp-Cell-outputWrapper\">\n",
       "    <div style=\"margin-left: 50px;display: flex;flex-direction: row;align-items: center\">\n",
       "        <div class=\"jp-RenderedHTMLCommon\" style=\"display: flex; flex-direction: row;\">\n",
       "  <svg viewBox=\"0 0 567 224\" fill=\"none\" xmlns=\"http://www.w3.org/2000/svg\" style=\"height: 3em;\">\n",
       "    <g clip-path=\"url(#clip0_4338_178347)\">\n",
       "        <path d=\"M341.29 165.561H355.29L330.13 129.051C345.63 123.991 354.21 112.051 354.21 94.2307C354.21 71.3707 338.72 58.1807 311.88 58.1807H271V165.561H283.27V131.661H311.8C314.25 131.661 316.71 131.501 319.01 131.351L341.25 165.561H341.29ZM283.29 119.851V70.0007H311.82C331.3 70.0007 342.34 78.2907 342.34 94.5507C342.34 111.271 331.34 119.861 311.82 119.861L283.29 119.851ZM451.4 138.411L463.4 165.561H476.74L428.74 58.1807H416L367.83 165.561H380.83L392.83 138.411H451.4ZM446.19 126.601H398L422 72.1407L446.24 126.601H446.19ZM526.11 128.741L566.91 58.1807H554.35L519.99 114.181L485.17 58.1807H472.44L514.01 129.181V165.541H526.13V128.741H526.11Z\" fill=\"var(--jp-ui-font-color0)\"/>\n",
       "        <path d=\"M82.35 104.44C84.0187 97.8827 87.8248 92.0678 93.1671 87.9146C98.5094 83.7614 105.083 81.5067 111.85 81.5067C118.617 81.5067 125.191 83.7614 130.533 87.9146C135.875 92.0678 139.681 97.8827 141.35 104.44H163.75C164.476 101.562 165.622 98.8057 167.15 96.2605L127.45 56.5605C121.071 60.3522 113.526 61.6823 106.235 60.3005C98.9443 58.9187 92.4094 54.9203 87.8602 49.0574C83.3109 43.1946 81.0609 35.8714 81.5332 28.4656C82.0056 21.0599 85.1679 14.0819 90.4252 8.8446C95.6824 3.60726 102.672 0.471508 110.08 0.0272655C117.487 -0.416977 124.802 1.86091 130.647 6.4324C136.493 11.0039 140.467 17.5539 141.821 24.8501C143.175 32.1463 141.816 39.6859 138 46.0505L177.69 85.7505C182.31 82.9877 187.58 81.4995 192.962 81.4375C198.345 81.3755 203.648 82.742 208.33 85.3976C213.012 88.0532 216.907 91.9029 219.616 96.5544C222.326 101.206 223.753 106.492 223.753 111.875C223.753 117.258 222.326 122.545 219.616 127.197C216.907 131.848 213.012 135.698 208.33 138.353C203.648 141.009 198.345 142.375 192.962 142.313C187.58 142.251 182.31 140.763 177.69 138L138 177.7C141.808 184.071 143.155 191.614 141.79 198.91C140.424 206.205 136.44 212.75 130.585 217.313C124.731 221.875 117.412 224.141 110.004 223.683C102.596 223.226 95.6103 220.077 90.3621 214.828C85.1139 209.58 81.9647 202.595 81.5072 195.187C81.0497 187.779 83.3154 180.459 87.878 174.605C92.4405 168.751 98.9853 164.766 106.281 163.401C113.576 162.035 121.119 163.383 127.49 167.19L167.19 127.49C165.664 124.941 164.518 122.182 163.79 119.3H141.39C139.721 125.858 135.915 131.673 130.573 135.826C125.231 139.98 118.657 142.234 111.89 142.234C105.123 142.234 98.5494 139.98 93.2071 135.826C87.8648 131.673 84.0587 125.858 82.39 119.3H60C58.1878 126.495 53.8086 132.78 47.6863 136.971C41.5641 141.163 34.1211 142.972 26.7579 142.059C19.3947 141.146 12.6191 137.574 7.70605 132.014C2.79302 126.454 0.0813599 119.29 0.0813599 111.87C0.0813599 104.451 2.79302 97.2871 7.70605 91.7272C12.6191 86.1673 19.3947 82.5947 26.7579 81.6817C34.1211 80.7686 41.5641 82.5781 47.6863 86.7696C53.8086 90.9611 58.1878 97.2456 60 104.44H82.35ZM100.86 204.32C103.407 206.868 106.759 208.453 110.345 208.806C113.93 209.159 117.527 208.258 120.522 206.256C123.517 204.254 125.725 201.276 126.771 197.828C127.816 194.38 127.633 190.677 126.253 187.349C124.874 184.021 122.383 181.274 119.205 179.577C116.027 177.88 112.359 177.337 108.826 178.042C105.293 178.746 102.113 180.654 99.8291 183.44C97.5451 186.226 96.2979 189.718 96.3 193.32C96.2985 195.364 96.7006 197.388 97.4831 199.275C98.2656 201.163 99.4132 202.877 100.86 204.32ZM204.32 122.88C206.868 120.333 208.453 116.981 208.806 113.396C209.159 109.811 208.258 106.214 206.256 103.219C204.254 100.223 201.275 98.0151 197.827 96.97C194.38 95.9249 190.676 96.1077 187.348 97.4873C184.02 98.8669 181.274 101.358 179.577 104.536C177.879 107.714 177.337 111.382 178.041 114.915C178.746 118.448 180.653 121.627 183.439 123.911C186.226 126.195 189.717 127.443 193.32 127.44C195.364 127.443 197.388 127.042 199.275 126.259C201.163 125.476 202.878 124.328 204.32 122.88ZM122.88 19.4205C120.333 16.8729 116.981 15.2876 113.395 14.9347C109.81 14.5817 106.213 15.483 103.218 17.4849C100.223 19.4868 98.0146 22.4654 96.9696 25.9131C95.9245 29.3608 96.1073 33.0642 97.4869 36.3922C98.8665 39.7202 101.358 42.4668 104.535 44.1639C107.713 45.861 111.381 46.4036 114.914 45.6992C118.447 44.9949 121.627 43.0871 123.911 40.301C126.195 37.515 127.442 34.0231 127.44 30.4205C127.44 28.3772 127.038 26.3539 126.255 24.4664C125.473 22.5788 124.326 20.8642 122.88 19.4205ZM19.42 100.86C16.8725 103.408 15.2872 106.76 14.9342 110.345C14.5813 113.93 15.4826 117.527 17.4844 120.522C19.4863 123.518 22.4649 125.726 25.9127 126.771C29.3604 127.816 33.0638 127.633 36.3918 126.254C39.7198 124.874 42.4664 122.383 44.1635 119.205C45.8606 116.027 46.4032 112.359 45.6988 108.826C44.9944 105.293 43.0866 102.114 40.3006 99.8296C37.5145 97.5455 34.0227 96.2983 30.42 96.3005C26.2938 96.3018 22.337 97.9421 19.42 100.86ZM100.86 100.86C98.3125 103.408 96.7272 106.76 96.3742 110.345C96.0213 113.93 96.9226 117.527 98.9244 120.522C100.926 123.518 103.905 125.726 107.353 126.771C110.8 127.816 114.504 127.633 117.832 126.254C121.16 124.874 123.906 122.383 125.604 119.205C127.301 116.027 127.843 112.359 127.139 108.826C126.434 105.293 124.527 102.114 121.741 99.8296C118.955 97.5455 115.463 96.2983 111.86 96.3005C109.817 96.299 107.793 96.701 105.905 97.4835C104.018 98.2661 102.303 99.4136 100.86 100.86Z\" fill=\"#00AEEF\"/>\n",
       "    </g>\n",
       "    <defs>\n",
       "        <clipPath id=\"clip0_4338_178347\">\n",
       "            <rect width=\"566.93\" height=\"223.75\" fill=\"white\"/>\n",
       "        </clipPath>\n",
       "    </defs>\n",
       "  </svg>\n",
       "</div>\n",
       "\n",
       "        <table class=\"jp-RenderedHTMLCommon\" style=\"border-collapse: collapse;color: var(--jp-ui-font-color1);font-size: var(--jp-ui-font-size1);\">\n",
       "    <tr>\n",
       "        <td style=\"text-align: left\"><b>Python version:</b></td>\n",
       "        <td style=\"text-align: left\"><b>3.10.16</b></td>\n",
       "    </tr>\n",
       "    <tr>\n",
       "        <td style=\"text-align: left\"><b>Ray version:</b></td>\n",
       "        <td style=\"text-align: left\"><b>2.43.0</b></td>\n",
       "    </tr>\n",
       "    <tr>\n",
       "    <td style=\"text-align: left\"><b>Dashboard:</b></td>\n",
       "    <td style=\"text-align: left\"><b><a href=\"http://127.0.0.1:8265\" target=\"_blank\">http://127.0.0.1:8265</a></b></td>\n",
       "</tr>\n",
       "\n",
       "</table>\n",
       "\n",
       "    </div>\n",
       "</div>\n"
      ],
      "text/plain": [
       "RayContext(dashboard_url='127.0.0.1:8265', python_version='3.10.16', ray_version='2.43.0', ray_commit='ecdcdc6a6e63dc4bcd6ea16aae256ce4d32a7e2c')"
      ]
     },
     "execution_count": 4,
     "metadata": {},
     "output_type": "execute_result"
    },
    {
     "name": "stderr",
     "output_type": "stream",
     "text": [
      "\u001b[36m(ImageInferenceActor pid=48330)\u001b[0m /home/mohanar2/.conda/envs/clowderenv/lib/python3.10/site-packages/albumentations/__init__.py:13: UserWarning: A new version of Albumentations is available: 2.0.8 (you have 1.4.15). Upgrade using: pip install -U albumentations. To disable automatic update checks, set the environment variable NO_ALBUMENTATIONS_UPDATE to 1.\n",
      "\u001b[36m(ImageInferenceActor pid=48330)\u001b[0m   check_for_updates()\n",
      "\u001b[36m(ImageInferenceActor pid=48323)\u001b[0m /home/mohanar2/.conda/envs/clowderenv/lib/python3.10/site-packages/albumentations/__init__.py:13: UserWarning: A new version of Albumentations is available: 2.0.8 (you have 1.4.15). Upgrade using: pip install -U albumentations. To disable automatic update checks, set the environment variable NO_ALBUMENTATIONS_UPDATE to 1.\n",
      "\u001b[36m(ImageInferenceActor pid=48323)\u001b[0m   check_for_updates()\n"
     ]
    }
   ],
   "source": [
    "# Initialize Ray\n",
    "\n",
    "ray.init(address=\"auto\", ignore_reinit_error=True)\n"
   ]
  },
  {
   "cell_type": "code",
   "execution_count": 5,
   "metadata": {},
   "outputs": [],
   "source": [
    "#  Add to store\n",
    "model_ref = ray.put(model)\n",
    "metadata_ref = ray.put(metadata)\n"
   ]
  },
  {
   "cell_type": "code",
   "execution_count": 6,
   "metadata": {},
   "outputs": [],
   "source": [
    "output_folder_name = f\"output_images_masked\"\n",
    "output_folder = os.path.join(os.getcwd(), output_folder_name)\n",
    "os.makedirs(output_folder, exist_ok=True)"
   ]
  },
  {
   "cell_type": "code",
   "execution_count": 9,
   "metadata": {},
   "outputs": [
    {
     "name": "stdout",
     "output_type": "stream",
     "text": [
      "['/home/mohanar2/pdg-extractors/rcnn_iwp_inference_slurm/test_images/FID_289_Polygon_1.jpg', '/home/mohanar2/pdg-extractors/rcnn_iwp_inference_slurm/test_images/FID_301_Polygon_1.jpg', '/home/mohanar2/pdg-extractors/rcnn_iwp_inference_slurm/test_images/FID_320_Polygon_1.jpg', '/home/mohanar2/pdg-extractors/rcnn_iwp_inference_slurm/test_images/FID_337_Polygon_2.jpg', '/home/mohanar2/pdg-extractors/rcnn_iwp_inference_slurm/test_images/FID_280_Polygon_1.jpg', '/home/mohanar2/pdg-extractors/rcnn_iwp_inference_slurm/test_images/FID_292_Polygon_1.jpg', '/home/mohanar2/pdg-extractors/rcnn_iwp_inference_slurm/test_images/FID_308_Polygon_1.jpg', '/home/mohanar2/pdg-extractors/rcnn_iwp_inference_slurm/test_images/FID_342_Polygon_2.jpg', '/home/mohanar2/pdg-extractors/rcnn_iwp_inference_slurm/test_images/FID_310_Polygon_1.jpg', '/home/mohanar2/pdg-extractors/rcnn_iwp_inference_slurm/test_images/FID_303_Polygon_1.jpg', '/home/mohanar2/pdg-extractors/rcnn_iwp_inference_slurm/test_images/FID_291_Polygon_1.jpg', '/home/mohanar2/pdg-extractors/rcnn_iwp_inference_slurm/test_images/FID_294_Polygon_1.jpg']\n"
     ]
    }
   ],
   "source": [
    "dataset_folder = 'test_images'\n",
    "dataset_folder = os.path.join(os.getcwd(), dataset_folder)\n",
    "image_files = [os.path.join(dataset_folder, f) for f in os.listdir(dataset_folder)]\n",
    "\n",
    "print(image_files)"
   ]
  },
  {
   "cell_type": "code",
   "execution_count": 10,
   "metadata": {},
   "outputs": [],
   "source": [
    "NUM_ACTORS = 4\n",
    "actors = [ImageInferenceActor.remote(model_ref, metadata_ref) for _ in range(NUM_ACTORS)]\n",
    "actors_pool = ActorPool(actors)"
   ]
  },
  {
   "cell_type": "code",
   "execution_count": 11,
   "metadata": {},
   "outputs": [
    {
     "name": "stdout",
     "output_type": "stream",
     "text": [
      "\u001b[36m(ImageInferenceActor pid=48323)\u001b[0m Worker 2 running inference on /home/mohanar2/pdg-extractors/rcnn_iwp_inference_slurm/test_images/FID_320_Polygon_1.jpg\n"
     ]
    },
    {
     "name": "stderr",
     "output_type": "stream",
     "text": [
      "\u001b[36m(ImageInferenceActor pid=48322)\u001b[0m /home/mohanar2/.conda/envs/clowderenv/lib/python3.10/site-packages/torch/functional.py:507: UserWarning: torch.meshgrid: in an upcoming release, it will be required to pass the indexing argument. (Triggered internally at /opt/conda/conda-bld/pytorch_1708025569588/work/aten/src/ATen/native/TensorShape.cpp:3549.)\n",
      "\u001b[36m(ImageInferenceActor pid=48322)\u001b[0m   return _VF.meshgrid(tensors, **kwargs)  # type: ignore[attr-defined]\n",
      "\u001b[36m(ImageInferenceActor pid=48321)\u001b[0m /home/mohanar2/.conda/envs/clowderenv/lib/python3.10/site-packages/albumentations/__init__.py:13: UserWarning: A new version of Albumentations is available: 2.0.8 (you have 1.4.15). Upgrade using: pip install -U albumentations. To disable automatic update checks, set the environment variable NO_ALBUMENTATIONS_UPDATE to 1.\u001b[32m [repeated 3x across cluster]\u001b[0m\n",
      "\u001b[36m(ImageInferenceActor pid=48321)\u001b[0m   check_for_updates()\u001b[32m [repeated 3x across cluster]\u001b[0m\n"
     ]
    },
    {
     "name": "stdout",
     "output_type": "stream",
     "text": [
      "\u001b[36m(ImageInferenceActor pid=48331)\u001b[0m Worker 4 running inference on /home/mohanar2/pdg-extractors/rcnn_iwp_inference_slurm/test_images/FID_280_Polygon_1.jpg\u001b[32m [repeated 4x across cluster]\u001b[0m\n",
      "\u001b[36m(ImageInferenceActor pid=48331)\u001b[0m Worker 8 running inference on /home/mohanar2/pdg-extractors/rcnn_iwp_inference_slurm/test_images/FID_310_Polygon_1.jpg\u001b[32m [repeated 4x across cluster]\u001b[0m\n"
     ]
    }
   ],
   "source": [
    "# Create task inputs with unique IDs\n",
    "tasks = [\n",
    "    (image_path, 0.6, output_folder, i) \n",
    "    for i, image_path in enumerate(image_files)\n",
    "]\n",
    "\n",
    "# Process all images using the actor pool\n",
    "results = list(actors_pool.map(lambda actor, task: actor.process_image.remote(*task), tasks))"
   ]
  },
  {
   "cell_type": "code",
   "execution_count": 10,
   "metadata": {},
   "outputs": [
    {
     "name": "stdout",
     "output_type": "stream",
     "text": [
      "[{'file': 'FID_289_Polygon_1.jpg', 'metadata': [{'id': 1, 'category_id': 1, 'bbox': [401.5414123535156, 180.4000244140625, 140.86947631835938, 121.52325439453125], 'area': 17118.91796875, 'score': 0.9910733103752136}, {'id': 2, 'category_id': 1, 'bbox': [242.68704223632812, 72.04177856445312, 113.76043701171875, 154.21917724609375], 'area': 17544.041015625, 'score': 0.9909319877624512}, {'id': 3, 'category_id': 1, 'bbox': [126.1694564819336, 68.78707885742188, 121.7298355102539, 115.40927124023438], 'area': 14048.751953125, 'score': 0.9878501296043396}, {'id': 4, 'category_id': 1, 'bbox': [74.00088500976562, 206.77825927734375, 160.08566284179688, 147.02947998046875], 'area': 23537.3125, 'score': 0.9877816438674927}, {'id': 5, 'category_id': 1, 'bbox': [247.4387969970703, 349.73675537109375, 138.92955017089844, 102.25531005859375], 'area': 14206.2841796875, 'score': 0.9875988364219666}, {'id': 6, 'category_id': 1, 'bbox': [264.09869384765625, 230.13491821289062, 151.97235107421875, 130.800537109375], 'area': 19878.064453125, 'score': 0.987424910068512}, {'id': 7, 'category_id': 1, 'bbox': [376.5258483886719, 405.28668212890625, 154.55520629882812, 136.1669921875], 'area': 21045.318359375, 'score': 0.9862832427024841}, {'id': 8, 'category_id': 1, 'bbox': [519.5455932617188, 457.8545837402344, 118.0489501953125, 103.55728149414062], 'area': 12224.828125, 'score': 0.9859232902526855}, {'id': 9, 'category_id': 1, 'bbox': [410.986328125, 49.01727294921875, 141.52154541015625, 152.3810272216797], 'area': 21565.19921875, 'score': 0.9843767881393433}, {'id': 10, 'category_id': 1, 'bbox': [326.4381408691406, 91.84336853027344, 118.3272705078125, 149.25534057617188], 'area': 17660.9765625, 'score': 0.9838983416557312}, {'id': 11, 'category_id': 1, 'bbox': [179.96200561523438, 132.13038635253906, 129.65896606445312, 147.5408172607422], 'area': 19129.990234375, 'score': 0.9823562502861023}, {'id': 12, 'category_id': 1, 'bbox': [452.5144348144531, 286.4756774902344, 114.26992797851562, 140.58917236328125], 'area': 16065.1142578125, 'score': 0.9808210134506226}, {'id': 13, 'category_id': 1, 'bbox': [162.95285034179688, 286.0924072265625, 127.08901977539062, 110.22222900390625], 'area': 14008.03515625, 'score': 0.9807033538818359}, {'id': 14, 'category_id': 1, 'bbox': [374.271728515625, 290.0108947753906, 99.09039306640625, 141.054931640625], 'area': 13977.1884765625, 'score': 0.9678429961204529}, {'id': 15, 'category_id': 1, 'bbox': [6.684501647949219, 293.1798400878906, 118.73988342285156, 161.253662109375], 'area': 19147.240234375, 'score': 0.9624261260032654}, {'id': 16, 'category_id': 1, 'bbox': [517.2310791015625, 377.5394592285156, 114.0186767578125, 97.3314208984375], 'area': 11097.599609375, 'score': 0.9369397759437561}, {'id': 17, 'category_id': 1, 'bbox': [1.6805992126464844, 63.56053924560547, 123.38348388671875, 132.67367553710938], 'area': 16369.740234375, 'score': 0.9293445944786072}, {'id': 18, 'category_id': 1, 'bbox': [199.48617553710938, 448.59942626953125, 176.8055419921875, 178.302734375], 'area': 31524.912109375, 'score': 0.9167155027389526}, {'id': 19, 'category_id': 1, 'bbox': [144.39468383789062, 361.8434753417969, 123.734375, 192.21401977539062], 'area': 23783.482421875, 'score': 0.8660435676574707}, {'id': 20, 'category_id': 1, 'bbox': [490.7989501953125, 557.4982299804688, 99.2252197265625, 98.50177001953125], 'area': 9773.859375, 'score': 0.8580589890480042}, {'id': 21, 'category_id': 1, 'bbox': [540.561279296875, 276.957763671875, 115.438720703125, 112.79791259765625], 'area': 13021.2470703125, 'score': 0.8505122065544128}, {'id': 22, 'category_id': 1, 'bbox': [55.68180465698242, 117.36238098144531, 105.15292358398438, 124.39483642578125], 'area': 13080.48046875, 'score': 0.8405166864395142}, {'id': 23, 'category_id': 1, 'bbox': [0.0, 192.09896850585938, 93.43594360351562, 135.5750732421875], 'area': 12667.5849609375, 'score': 0.8027455806732178}, {'id': 24, 'category_id': 1, 'bbox': [530.5584716796875, 197.7790985107422, 125.4415283203125, 99.41584777832031], 'area': 12470.8759765625, 'score': 0.7056578397750854}], 'output_file': '/home/mohanar2/pdg-extractors/rcnn_iwp_inference_slurm/output_images_masked/FID_289_Polygon_1_masked.jpg'}, {'file': 'FID_301_Polygon_1.jpg', 'metadata': [{'id': 1, 'category_id': 1, 'bbox': [239.88674926757812, 247.10113525390625, 137.6552734375, 160.12750244140625], 'area': 22042.39453125, 'score': 0.9911183714866638}, {'id': 2, 'category_id': 1, 'bbox': [36.1300048828125, 352.94146728515625, 136.9532012939453, 148.41290283203125], 'area': 20325.623046875, 'score': 0.9793545007705688}, {'id': 3, 'category_id': 1, 'bbox': [168.131103515625, 359.50518798828125, 134.9373779296875, 126.38458251953125], 'area': 17054.00390625, 'score': 0.9757480025291443}, {'id': 4, 'category_id': 1, 'bbox': [465.6431579589844, 340.0193786621094, 109.44515991210938, 106.920166015625], 'area': 11701.89453125, 'score': 0.9659793376922607}, {'id': 5, 'category_id': 1, 'bbox': [306.4237976074219, 382.1930236816406, 146.92706298828125, 112.141357421875], 'area': 16476.599609375, 'score': 0.9433803558349609}, {'id': 6, 'category_id': 1, 'bbox': [281.62969970703125, 170.69406127929688, 185.47650146484375, 143.98403930664062], 'area': 26705.65625, 'score': 0.8945469856262207}, {'id': 7, 'category_id': 1, 'bbox': [54.91228485107422, 109.84165954589844, 209.28704833984375, 261.1724853515625], 'area': 54660.01953125, 'score': 0.8792681694030762}, {'id': 8, 'category_id': 1, 'bbox': [489.02685546875, 473.62603759765625, 126.776123046875, 114.241455078125], 'area': 14483.0888671875, 'score': 0.8520464897155762}, {'id': 9, 'category_id': 1, 'bbox': [420.59490966796875, 441.61163330078125, 101.52117919921875, 137.8521728515625], 'area': 13994.9150390625, 'score': 0.8270972371101379}, {'id': 10, 'category_id': 1, 'bbox': [307.636962890625, 373.4267272949219, 186.6048583984375, 190.20046997070312], 'area': 35492.33203125, 'score': 0.8243187665939331}, {'id': 11, 'category_id': 1, 'bbox': [444.6326599121094, 253.6845703125, 156.73880004882812, 93.702880859375], 'area': 14686.876953125, 'score': 0.8031432628631592}, {'id': 12, 'category_id': 1, 'bbox': [35.892189025878906, 497.81201171875, 129.83840942382812, 119.716552734375], 'area': 15543.806640625, 'score': 0.7933541536331177}, {'id': 13, 'category_id': 1, 'bbox': [473.2493591308594, 146.68905639648438, 119.94699096679688, 112.0926513671875], 'area': 13445.17578125, 'score': 0.7654052972793579}, {'id': 14, 'category_id': 1, 'bbox': [536.1925048828125, 380.9290771484375, 117.100341796875, 96.6915283203125], 'area': 11322.611328125, 'score': 0.7207188606262207}, {'id': 15, 'category_id': 1, 'bbox': [54.82946014404297, 2.5024185180664062, 127.71924591064453, 100.44126892089844], 'area': 12828.283203125, 'score': 0.6584199070930481}, {'id': 16, 'category_id': 1, 'bbox': [94.3094482421875, 195.46804809570312, 168.87429809570312, 145.18634033203125], 'area': 24518.2421875, 'score': 0.6550530195236206}, {'id': 17, 'category_id': 1, 'bbox': [219.16651916503906, 439.0507507324219, 101.04685974121094, 99.58230590820312], 'area': 10062.4794921875, 'score': 0.6450120210647583}], 'output_file': '/home/mohanar2/pdg-extractors/rcnn_iwp_inference_slurm/output_images_masked/FID_301_Polygon_1_masked.jpg'}, {'file': 'FID_320_Polygon_1.jpg', 'metadata': [{'id': 1, 'category_id': 1, 'bbox': [188.73548889160156, 369.173095703125, 93.72761535644531, 105.2652587890625], 'area': 9866.26171875, 'score': 0.9885373115539551}, {'id': 2, 'category_id': 1, 'bbox': [346.4696960449219, 402.87799072265625, 94.4927978515625, 84.58935546875], 'area': 7993.0849609375, 'score': 0.9837468266487122}, {'id': 3, 'category_id': 1, 'bbox': [137.50634765625, 132.299072265625, 104.10272216796875, 93.71490478515625], 'area': 9755.9765625, 'score': 0.9795107245445251}, {'id': 4, 'category_id': 1, 'bbox': [43.33872985839844, 280.13909912109375, 94.2841796875, 82.35931396484375], 'area': 7765.18017578125, 'score': 0.977946937084198}, {'id': 5, 'category_id': 1, 'bbox': [392.0174560546875, 434.61614990234375, 113.40826416015625, 100.85504150390625], 'area': 11437.794921875, 'score': 0.9746175408363342}, {'id': 6, 'category_id': 1, 'bbox': [429.63287353515625, 318.7593688964844, 131.60137939453125, 113.444580078125], 'area': 14929.462890625, 'score': 0.9688417911529541}, {'id': 7, 'category_id': 1, 'bbox': [213.8702392578125, 231.21408081054688, 80.1817626953125, 78.652099609375], 'area': 6306.4638671875, 'score': 0.9671863317489624}, {'id': 8, 'category_id': 1, 'bbox': [265.6325988769531, 421.2090148925781, 107.70758056640625, 89.2064208984375], 'area': 9608.2080078125, 'score': 0.9665947556495667}, {'id': 9, 'category_id': 1, 'bbox': [241.62649536132812, 501.9422607421875, 83.04638671875, 76.3077392578125], 'area': 6337.08203125, 'score': 0.9564605951309204}, {'id': 10, 'category_id': 1, 'bbox': [346.2789306640625, 253.49673461914062, 92.630615234375, 110.2740478515625], 'area': 10214.7529296875, 'score': 0.9548944234848022}, {'id': 11, 'category_id': 1, 'bbox': [156.658447265625, 568.0894775390625, 107.0797119140625, 63.18212890625], 'area': 6765.52392578125, 'score': 0.943374514579773}, {'id': 12, 'category_id': 1, 'bbox': [295.14544677734375, 200.4032440185547, 86.11004638671875, 81.30439758300781], 'area': 7001.12548828125, 'score': 0.942743718624115}, {'id': 13, 'category_id': 1, 'bbox': [0.0, 362.8473205566406, 90.53093719482422, 84.63250732421875], 'area': 7661.8603515625, 'score': 0.9418551921844482}, {'id': 14, 'category_id': 1, 'bbox': [365.4973449707031, 164.30447387695312, 116.7073974609375, 108.6070556640625], 'area': 12675.2470703125, 'score': 0.934260904788971}, {'id': 15, 'category_id': 1, 'bbox': [442.5069885253906, 21.726730346679688, 83.72207641601562, 91.13160705566406], 'area': 7629.7275390625, 'score': 0.934144914150238}, {'id': 16, 'category_id': 1, 'bbox': [164.87709045410156, 283.542236328125, 89.07864379882812, 100.52593994140625], 'area': 8954.71484375, 'score': 0.9249516725540161}, {'id': 17, 'category_id': 1, 'bbox': [352.37078857421875, 565.9599609375, 109.13543701171875, 90.0400390625], 'area': 9826.55859375, 'score': 0.9208511710166931}, {'id': 18, 'category_id': 1, 'bbox': [305.1830749511719, 566.2327880859375, 62.81591796875, 80.1754150390625], 'area': 5036.29248046875, 'score': 0.9150057435035706}, {'id': 19, 'category_id': 1, 'bbox': [316.4920349121094, 483.7666320800781, 98.85693359375, 96.16226196289062], 'area': 9506.306640625, 'score': 0.9135845303535461}, {'id': 20, 'category_id': 1, 'bbox': [485.9694519042969, 211.47607421875, 60.864593505859375, 66.72003173828125], 'area': 4060.8876953125, 'score': 0.8989238142967224}, {'id': 21, 'category_id': 1, 'bbox': [489.36602783203125, 428.1575012207031, 90.7894287109375, 85.41574096679688], 'area': 7754.84619140625, 'score': 0.8972574472427368}, {'id': 22, 'category_id': 1, 'bbox': [309.6463317871094, 79.7670669555664, 60.5670166015625, 54.17516326904297], 'area': 3281.22802734375, 'score': 0.8853362798690796}, {'id': 23, 'category_id': 1, 'bbox': [198.497802734375, 31.54653549194336, 102.90536499023438, 126.34626770019531], 'area': 13001.708984375, 'score': 0.8749828934669495}, {'id': 24, 'category_id': 1, 'bbox': [366.7909240722656, 82.50768280029297, 112.9677734375, 94.10425567626953], 'area': 10630.748046875, 'score': 0.8716782927513123}, {'id': 25, 'category_id': 1, 'bbox': [562.1280517578125, 448.7073059082031, 80.2308349609375, 60.1309814453125], 'area': 4824.35888671875, 'score': 0.8339848518371582}, {'id': 26, 'category_id': 1, 'bbox': [89.44967651367188, 361.5802001953125, 101.63662719726562, 140.32684326171875], 'area': 14262.3466796875, 'score': 0.8334170579910278}, {'id': 27, 'category_id': 1, 'bbox': [419.89813232421875, 503.05352783203125, 146.06170654296875, 101.263916015625], 'area': 14790.7802734375, 'score': 0.8263360261917114}, {'id': 28, 'category_id': 1, 'bbox': [369.17724609375, 93.51211547851562, 61.85333251953125, 70.58181762695312], 'area': 4365.720703125, 'score': 0.8166154623031616}, {'id': 29, 'category_id': 1, 'bbox': [54.41545104980469, 192.82054138183594, 70.203857421875, 92.86354064941406], 'area': 6519.37890625, 'score': 0.8092216849327087}, {'id': 30, 'category_id': 1, 'bbox': [350.64404296875, 145.5391845703125, 49.15875244140625, 40.124664306640625], 'area': 1972.4783935546875, 'score': 0.7877331376075745}, {'id': 31, 'category_id': 1, 'bbox': [292.18798828125, 113.62405395507812, 76.976318359375, 69.66567993164062], 'area': 5362.607421875, 'score': 0.7761773467063904}, {'id': 32, 'category_id': 1, 'bbox': [233.11181640625, 299.1882629394531, 65.66094970703125, 62.43682861328125], 'area': 4099.66162109375, 'score': 0.772283136844635}, {'id': 33, 'category_id': 1, 'bbox': [86.96281433105469, 129.87445068359375, 65.39102172851562, 71.75299072265625], 'area': 4692.00146484375, 'score': 0.761709988117218}, {'id': 34, 'category_id': 1, 'bbox': [135.40512084960938, 464.139404296875, 117.3751220703125, 111.1488037109375], 'area': 13046.1044921875, 'score': 0.7401793003082275}, {'id': 35, 'category_id': 1, 'bbox': [375.1395568847656, 335.1158142089844, 68.61126708984375, 89.09747314453125], 'area': 6113.09033203125, 'score': 0.7390179634094238}, {'id': 36, 'category_id': 1, 'bbox': [145.2352294921875, 207.542236328125, 93.558349609375, 83.33786010742188], 'area': 7796.95263671875, 'score': 0.7354881763458252}, {'id': 37, 'category_id': 1, 'bbox': [369.4580078125, 164.13265991210938, 79.27447509765625, 65.0216064453125], 'area': 5154.5537109375, 'score': 0.7191109657287598}, {'id': 38, 'category_id': 1, 'bbox': [532.965576171875, 319.3385925292969, 99.612548828125, 111.36627197265625], 'area': 11093.478515625, 'score': 0.7188848853111267}, {'id': 39, 'category_id': 1, 'bbox': [486.8065185546875, 205.99244689941406, 134.0435791015625, 89.21488952636719], 'area': 11958.6826171875, 'score': 0.7008947134017944}, {'id': 40, 'category_id': 1, 'bbox': [61.85647964477539, 575.8900146484375, 99.80659484863281, 73.747802734375], 'area': 7360.51708984375, 'score': 0.6861372590065002}, {'id': 41, 'category_id': 1, 'bbox': [486.47686767578125, 138.03781127929688, 82.1844482421875, 84.61001586914062], 'area': 6953.62744140625, 'score': 0.6773814558982849}, {'id': 42, 'category_id': 1, 'bbox': [223.52389526367188, 457.633544921875, 61.674224853515625, 60.14459228515625], 'area': 3709.37109375, 'score': 0.6134385466575623}, {'id': 43, 'category_id': 1, 'bbox': [404.23626708984375, 298.253173828125, 229.6240234375, 144.20477294921875], 'area': 33112.87890625, 'score': 0.6049548387527466}], 'output_file': '/home/mohanar2/pdg-extractors/rcnn_iwp_inference_slurm/output_images_masked/FID_320_Polygon_1_masked.jpg'}, {'file': 'FID_337_Polygon_2.jpg', 'metadata': [{'id': 1, 'category_id': 1, 'bbox': [62.06285095214844, 92.98526000976562, 126.36053466796875, 123.5284423828125], 'area': 15609.1201171875, 'score': 0.9767923951148987}, {'id': 2, 'category_id': 1, 'bbox': [196.61300659179688, 259.8322448730469, 120.96209716796875, 109.74359130859375], 'area': 13274.8154296875, 'score': 0.9455951452255249}, {'id': 3, 'category_id': 1, 'bbox': [120.24147033691406, 274.4066467285156, 74.76669311523438, 72.17913818359375], 'area': 5396.595703125, 'score': 0.9177104830741882}, {'id': 4, 'category_id': 1, 'bbox': [142.21578979492188, 345.094970703125, 73.308349609375, 64.15179443359375], 'area': 4702.8623046875, 'score': 0.9170163869857788}, {'id': 5, 'category_id': 1, 'bbox': [449.1801452636719, 79.86962890625, 139.16329956054688, 152.28775024414062], 'area': 21192.865234375, 'score': 0.878573477268219}, {'id': 6, 'category_id': 1, 'bbox': [153.6346893310547, 474.0234375, 144.30250549316406, 113.30224609375], 'area': 16349.7978515625, 'score': 0.8373981714248657}, {'id': 7, 'category_id': 1, 'bbox': [235.14878845214844, 275.9031982421875, 168.16419982910156, 129.603271484375], 'area': 21794.630859375, 'score': 0.8262815475463867}, {'id': 8, 'category_id': 1, 'bbox': [427.90350341796875, 499.6811828613281, 119.81689453125, 106.90853881835938], 'area': 12809.44921875, 'score': 0.8212288618087769}, {'id': 9, 'category_id': 1, 'bbox': [198.8941650390625, 213.53451538085938, 71.86282348632812, 65.0740966796875], 'area': 4676.408203125, 'score': 0.7840273976325989}, {'id': 10, 'category_id': 1, 'bbox': [155.64419555664062, 576.6971435546875, 122.090087890625, 79.3028564453125], 'area': 9682.0927734375, 'score': 0.6486769318580627}, {'id': 11, 'category_id': 1, 'bbox': [304.69488525390625, 344.561279296875, 136.7171630859375, 155.81414794921875], 'area': 21302.46875, 'score': 0.6294546723365784}, {'id': 12, 'category_id': 1, 'bbox': [247.9740753173828, 167.963134765625, 83.64912414550781, 89.57427978515625], 'area': 7492.81005859375, 'score': 0.6280085444450378}, {'id': 13, 'category_id': 1, 'bbox': [426.7967529296875, 420.00408935546875, 95.00189208984375, 92.9901123046875], 'area': 8834.236328125, 'score': 0.62772136926651}, {'id': 14, 'category_id': 1, 'bbox': [281.0979919433594, 211.85504150390625, 88.24102783203125, 74.03213500976562], 'area': 6532.671875, 'score': 0.6206439733505249}], 'output_file': '/home/mohanar2/pdg-extractors/rcnn_iwp_inference_slurm/output_images_masked/FID_337_Polygon_2_masked.jpg'}, {'file': 'FID_280_Polygon_1.jpg', 'metadata': [{'id': 1, 'category_id': 1, 'bbox': [440.8972473144531, 379.2193603515625, 109.91891479492188, 114.6072998046875], 'area': 12597.509765625, 'score': 0.9871485829353333}, {'id': 2, 'category_id': 1, 'bbox': [208.4915771484375, 360.42791748046875, 129.9141845703125, 118.50762939453125], 'area': 15395.822265625, 'score': 0.9841552972793579}, {'id': 3, 'category_id': 1, 'bbox': [385.6973571777344, 246.5799560546875, 115.89422607421875, 123.7130126953125], 'area': 14337.6240234375, 'score': 0.9605230689048767}, {'id': 4, 'category_id': 1, 'bbox': [82.33405303955078, 215.51979064941406, 141.70166015625, 106.92243957519531], 'area': 15151.0869140625, 'score': 0.9577971696853638}, {'id': 5, 'category_id': 1, 'bbox': [312.78515625, 38.24861145019531, 93.7591552734375, 118.40438842773438], 'area': 11101.4951171875, 'score': 0.9571066498756409}, {'id': 6, 'category_id': 1, 'bbox': [476.4351806640625, 275.3699035644531, 138.4271240234375, 121.16357421875], 'area': 16772.32421875, 'score': 0.9560614228248596}, {'id': 7, 'category_id': 1, 'bbox': [70.33615112304688, 300.88775634765625, 148.43218994140625, 131.23492431640625], 'area': 19479.486328125, 'score': 0.9540326595306396}, {'id': 8, 'category_id': 1, 'bbox': [309.8272705078125, 381.7996826171875, 126.85626220703125, 153.7486572265625], 'area': 19503.98046875, 'score': 0.9429932832717896}, {'id': 9, 'category_id': 1, 'bbox': [107.4237289428711, 430.6153869628906, 96.84085845947266, 97.22384643554688], 'area': 9415.2412109375, 'score': 0.9000257253646851}, {'id': 10, 'category_id': 1, 'bbox': [422.7886962890625, 493.1396484375, 98.72314453125, 72.9521484375], 'area': 7202.0654296875, 'score': 0.874819278717041}, {'id': 11, 'category_id': 1, 'bbox': [390.11578369140625, 79.84727478027344, 109.49609375, 96.6016845703125], 'area': 10577.5068359375, 'score': 0.8733972907066345}, {'id': 12, 'category_id': 1, 'bbox': [175.66921997070312, 463.087646484375, 116.02685546875, 95.34503173828125], 'area': 11062.583984375, 'score': 0.8733057975769043}, {'id': 13, 'category_id': 1, 'bbox': [240.85665893554688, 210.94349670410156, 150.96527099609375, 131.3256072998047], 'area': 19825.60546875, 'score': 0.8528392910957336}, {'id': 14, 'category_id': 1, 'bbox': [70.46853637695312, 65.09712219238281, 127.05001831054688, 121.56459045410156], 'area': 15444.783203125, 'score': 0.8500705361366272}, {'id': 15, 'category_id': 1, 'bbox': [3.5663223266601562, 21.452007293701172, 105.72831726074219, 121.07405090332031], 'area': 12800.9560546875, 'score': 0.8464440107345581}, {'id': 16, 'category_id': 1, 'bbox': [210.76480102539062, 273.23944091796875, 117.23046875, 97.02691650390625], 'area': 11374.5107421875, 'score': 0.8195512890815735}, {'id': 17, 'category_id': 1, 'bbox': [499.6169738769531, 107.97962951660156, 128.40792846679688, 109.32882690429688], 'area': 14038.6884765625, 'score': 0.8013042211532593}, {'id': 18, 'category_id': 1, 'bbox': [240.1517333984375, 134.6485137939453, 106.427490234375, 112.2606201171875], 'area': 11947.6162109375, 'score': 0.7210054397583008}, {'id': 19, 'category_id': 1, 'bbox': [245.2196044921875, 545.3312377929688, 121.8131103515625, 110.66876220703125], 'area': 13480.90625, 'score': 0.7112017273902893}, {'id': 20, 'category_id': 1, 'bbox': [261.2550964355469, 328.437255859375, 100.5140380859375, 75.15057373046875], 'area': 7553.6875, 'score': 0.703334629535675}, {'id': 21, 'category_id': 1, 'bbox': [411.07568359375, 2.4841384887695312, 130.30657958984375, 103.41063690185547], 'area': 13475.0859375, 'score': 0.6700385808944702}, {'id': 22, 'category_id': 1, 'bbox': [458.4530944824219, 568.2314453125, 106.05044555664062, 70.0579833984375], 'area': 7429.68017578125, 'score': 0.6589939594268799}, {'id': 23, 'category_id': 1, 'bbox': [507.93597412109375, 10.867469787597656, 107.6513671875, 108.43067932128906], 'area': 11672.7109375, 'score': 0.6532925963401794}], 'output_file': '/home/mohanar2/pdg-extractors/rcnn_iwp_inference_slurm/output_images_masked/FID_280_Polygon_1_masked.jpg'}, {'file': 'FID_292_Polygon_1.jpg', 'metadata': [{'id': 1, 'category_id': 1, 'bbox': [365.8819885253906, 253.607421875, 120.85760498046875, 149.65045166015625], 'area': 18086.39453125, 'score': 0.9922411441802979}, {'id': 2, 'category_id': 1, 'bbox': [167.25628662109375, 148.0755157470703, 192.31378173828125, 203.5676727294922], 'area': 39148.8671875, 'score': 0.9921267032623291}, {'id': 3, 'category_id': 1, 'bbox': [370.9352111816406, 13.227439880371094, 132.148193359375, 143.76666259765625], 'area': 18998.50390625, 'score': 0.9913908243179321}, {'id': 4, 'category_id': 1, 'bbox': [178.91424560546875, 45.53602600097656, 143.27322387695312, 128.21914672851562], 'area': 18370.37109375, 'score': 0.990759015083313}, {'id': 5, 'category_id': 1, 'bbox': [319.53155517578125, 505.1011657714844, 138.27349853515625, 133.73904418945312], 'area': 18492.56640625, 'score': 0.9886819124221802}, {'id': 6, 'category_id': 1, 'bbox': [76.13168334960938, 448.5772705078125, 135.63470458984375, 126.1954345703125], 'area': 17116.48046875, 'score': 0.987622082233429}, {'id': 7, 'category_id': 1, 'bbox': [209.75906372070312, 447.4939270019531, 122.772705078125, 150.97085571289062], 'area': 18535.099609375, 'score': 0.9876058101654053}, {'id': 8, 'category_id': 1, 'bbox': [329.72283935546875, 404.166748046875, 116.1251220703125, 113.90863037109375], 'area': 13227.6533203125, 'score': 0.9826996326446533}, {'id': 9, 'category_id': 1, 'bbox': [487.0487365722656, 268.3264465332031, 111.63174438476562, 95.575439453125], 'area': 10669.2529296875, 'score': 0.9816464781761169}, {'id': 10, 'category_id': 1, 'bbox': [110.21619415283203, 390.85333251953125, 141.49734497070312, 90.947998046875], 'area': 12868.900390625, 'score': 0.9800781011581421}, {'id': 11, 'category_id': 1, 'bbox': [70.27867126464844, 139.30621337890625, 122.58697509765625, 139.517822265625], 'area': 17103.068359375, 'score': 0.9789244532585144}, {'id': 12, 'category_id': 1, 'bbox': [431.4268798828125, 349.08135986328125, 174.240966796875, 182.65740966796875], 'area': 31826.404296875, 'score': 0.972561776638031}, {'id': 13, 'category_id': 1, 'bbox': [473.8821105957031, 55.83515930175781, 145.58200073242188, 147.04830932617188], 'area': 21407.587890625, 'score': 0.9666534662246704}, {'id': 14, 'category_id': 1, 'bbox': [289.881591796875, 245.90760803222656, 94.71270751953125, 148.82383728027344], 'area': 14095.5087890625, 'score': 0.9569752812385559}, {'id': 15, 'category_id': 1, 'bbox': [39.4970588684082, 206.95828247070312, 116.22000122070312, 127.9083251953125], 'area': 14865.505859375, 'score': 0.9551492929458618}, {'id': 16, 'category_id': 1, 'bbox': [42.23397445678711, 334.01409912109375, 96.21636962890625, 116.8951416015625], 'area': 11247.2265625, 'score': 0.9396486282348633}, {'id': 17, 'category_id': 1, 'bbox': [518.1856079101562, 186.6116943359375, 113.970947265625, 92.31024169921875], 'area': 10520.685546875, 'score': 0.9335027933120728}, {'id': 18, 'category_id': 1, 'bbox': [435.7463684082031, 155.97683715820312, 96.47048950195312, 132.46890258789062], 'area': 12779.33984375, 'score': 0.931899905204773}, {'id': 19, 'category_id': 1, 'bbox': [55.78052520751953, 56.42264175415039, 121.53270721435547, 101.74749755859375], 'area': 12365.6484375, 'score': 0.9274152517318726}, {'id': 20, 'category_id': 1, 'bbox': [492.04827880859375, 528.5460205078125, 92.2244873046875, 114.3924560546875], 'area': 10549.78515625, 'score': 0.9206827878952026}, {'id': 21, 'category_id': 1, 'bbox': [119.96318817138672, 290.9844665527344, 135.29067993164062, 122.90185546875], 'area': 16627.4765625, 'score': 0.8862782120704651}, {'id': 22, 'category_id': 1, 'bbox': [413.014404296875, 534.65966796875, 93.41455078125, 103.4908447265625], 'area': 9667.55078125, 'score': 0.8691741228103638}, {'id': 23, 'category_id': 1, 'bbox': [255.87799072265625, 364.3793640136719, 108.92193603515625, 88.28131103515625], 'area': 9615.771484375, 'score': 0.8506607413291931}, {'id': 24, 'category_id': 1, 'bbox': [295.1657409667969, 50.01338195800781, 84.52490234375, 102.65715026855469], 'area': 8677.0859375, 'score': 0.808422863483429}, {'id': 25, 'category_id': 1, 'bbox': [342.9793395996094, 110.45079040527344, 111.9266357421875, 100.2470703125], 'area': 11220.3173828125, 'score': 0.7670713663101196}, {'id': 26, 'category_id': 1, 'bbox': [539.5872192382812, 515.2470703125, 97.727783203125, 88.5733642578125], 'area': 8656.078125, 'score': 0.7178666591644287}, {'id': 27, 'category_id': 1, 'bbox': [0.0, 134.00393676757812, 87.46670532226562, 116.4661865234375], 'area': 10186.9140625, 'score': 0.6094509959220886}], 'output_file': '/home/mohanar2/pdg-extractors/rcnn_iwp_inference_slurm/output_images_masked/FID_292_Polygon_1_masked.jpg'}, {'file': 'FID_308_Polygon_1.jpg', 'metadata': [{'id': 1, 'category_id': 1, 'bbox': [469.3186950683594, 378.8146667480469, 156.08511352539062, 138.85604858398438], 'area': 21673.361328125, 'score': 0.9432852268218994}, {'id': 2, 'category_id': 1, 'bbox': [113.38671112060547, 219.45327758789062, 150.66323852539062, 217.56744384765625], 'area': 32779.4140625, 'score': 0.8997987508773804}, {'id': 3, 'category_id': 1, 'bbox': [147.30902099609375, 120.20096588134766, 157.74734497070312, 120.99987030029297], 'area': 19087.408203125, 'score': 0.8879062533378601}, {'id': 4, 'category_id': 1, 'bbox': [368.03167724609375, 131.8976593017578, 144.3448486328125, 122.3389892578125], 'area': 17659.001953125, 'score': 0.781189501285553}], 'output_file': '/home/mohanar2/pdg-extractors/rcnn_iwp_inference_slurm/output_images_masked/FID_308_Polygon_1_masked.jpg'}, {'file': 'FID_342_Polygon_2.jpg', 'metadata': [{'id': 1, 'category_id': 1, 'bbox': [323.76263427734375, 314.70574951171875, 127.53570556640625, 86.400146484375], 'area': 11019.103515625, 'score': 0.9178939461708069}, {'id': 2, 'category_id': 1, 'bbox': [224.66787719726562, 72.4442138671875, 116.6087646484375, 99.76484680175781], 'area': 11633.455078125, 'score': 0.8773993253707886}, {'id': 3, 'category_id': 1, 'bbox': [444.0461730957031, 303.4331359863281, 111.01095581054688, 101.98614501953125], 'area': 11321.5791015625, 'score': 0.8706480860710144}, {'id': 4, 'category_id': 1, 'bbox': [454.5353698730469, 21.836273193359375, 201.46463012695312, 130.0293731689453], 'area': 26196.3203125, 'score': 0.8486993312835693}, {'id': 5, 'category_id': 1, 'bbox': [226.72894287109375, 210.8634796142578, 157.1785888671875, 91.23225402832031], 'area': 14339.7568359375, 'score': 0.8410847187042236}, {'id': 6, 'category_id': 1, 'bbox': [18.503726959228516, 284.9347839355469, 124.53413391113281, 114.94219970703125], 'area': 14314.2275390625, 'score': 0.7158548831939697}, {'id': 7, 'category_id': 1, 'bbox': [6.377838134765625, 176.0883026123047, 129.6421661376953, 75.69137573242188], 'area': 9812.7939453125, 'score': 0.6623008847236633}, {'id': 8, 'category_id': 1, 'bbox': [365.502197265625, 219.53343200683594, 79.18902587890625, 100.09950256347656], 'area': 7926.7822265625, 'score': 0.6448144912719727}, {'id': 9, 'category_id': 1, 'bbox': [275.38995361328125, 139.17665100097656, 93.09716796875, 76.08941650390625], 'area': 7083.708984375, 'score': 0.6385518908500671}, {'id': 10, 'category_id': 1, 'bbox': [506.1677551269531, 247.550048828125, 77.46865844726562, 95.58282470703125], 'area': 7404.67333984375, 'score': 0.6255619525909424}, {'id': 11, 'category_id': 1, 'bbox': [431.39923095703125, 225.4071807861328, 83.71258544921875, 80.59934997558594], 'area': 6747.18017578125, 'score': 0.6090291738510132}, {'id': 12, 'category_id': 1, 'bbox': [283.0046081542969, 401.2629699707031, 166.3641357421875, 139.04708862304688], 'area': 23132.44921875, 'score': 0.6026071310043335}], 'output_file': '/home/mohanar2/pdg-extractors/rcnn_iwp_inference_slurm/output_images_masked/FID_342_Polygon_2_masked.jpg'}, {'file': 'FID_310_Polygon_1.jpg', 'metadata': [{'id': 1, 'category_id': 1, 'bbox': [364.7757568359375, 141.6660614013672, 248.78619384765625, 167.2943878173828], 'area': 41620.53515625, 'score': 0.8732434511184692}, {'id': 2, 'category_id': 1, 'bbox': [284.9471435546875, 240.15823364257812, 151.80322265625, 148.48907470703125], 'area': 22541.119140625, 'score': 0.7974106669425964}, {'id': 3, 'category_id': 1, 'bbox': [443.2882995605469, 277.3415832519531, 202.82925415039062, 220.86273193359375], 'area': 44797.421875, 'score': 0.6080947518348694}], 'output_file': '/home/mohanar2/pdg-extractors/rcnn_iwp_inference_slurm/output_images_masked/FID_310_Polygon_1_masked.jpg'}, {'file': 'FID_303_Polygon_1.jpg', 'metadata': [{'id': 1, 'category_id': 1, 'bbox': [332.3072814941406, 341.61529541015625, 138.50634765625, 141.24798583984375], 'area': 19563.7421875, 'score': 0.9920376539230347}, {'id': 2, 'category_id': 1, 'bbox': [438.67254638671875, 122.24769592285156, 177.6947021484375, 154.62071228027344], 'area': 27475.28125, 'score': 0.9893553853034973}, {'id': 3, 'category_id': 1, 'bbox': [207.03237915039062, 217.42977905273438, 106.44818115234375, 111.76312255859375], 'area': 11896.9814453125, 'score': 0.9700078964233398}, {'id': 4, 'category_id': 1, 'bbox': [87.25572967529297, 326.7891845703125, 133.07937622070312, 125.93670654296875], 'area': 16759.578125, 'score': 0.9627348184585571}, {'id': 5, 'category_id': 1, 'bbox': [287.0245666503906, 483.4561462402344, 154.0946044921875, 150.69351196289062], 'area': 23221.056640625, 'score': 0.9312493801116943}, {'id': 6, 'category_id': 1, 'bbox': [541.1338500976562, 255.10699462890625, 109.7469482421875, 141.64154052734375], 'area': 15544.7265625, 'score': 0.9183164834976196}, {'id': 7, 'category_id': 1, 'bbox': [10.81296157836914, 103.58934020996094, 116.9451904296875, 112.54364013671875], 'area': 13161.4375, 'score': 0.8948009610176086}, {'id': 8, 'category_id': 1, 'bbox': [182.89657592773438, 113.27627563476562, 142.98287963867188, 101.10092163085938], 'area': 14455.701171875, 'score': 0.8861304521560669}, {'id': 9, 'category_id': 1, 'bbox': [10.019161224365234, 198.8808135986328, 104.3560791015625, 115.85173034667969], 'area': 12089.83203125, 'score': 0.8821709156036377}, {'id': 10, 'category_id': 1, 'bbox': [294.4357604980469, 217.93002319335938, 139.68756103515625, 120.96661376953125], 'area': 16897.53125, 'score': 0.8411605358123779}, {'id': 11, 'category_id': 1, 'bbox': [111.8572998046875, 231.90591430664062, 94.2208251953125, 95.0323486328125], 'area': 8954.0263671875, 'score': 0.8295435905456543}, {'id': 12, 'category_id': 1, 'bbox': [464.45037841796875, 404.86474609375, 133.026611328125, 123.660888671875], 'area': 16450.189453125, 'score': 0.7542262077331543}, {'id': 13, 'category_id': 1, 'bbox': [79.32247924804688, 0.981658935546875, 154.9248046875, 127.08999633789062], 'area': 19689.392578125, 'score': 0.718552827835083}, {'id': 14, 'category_id': 1, 'bbox': [305.96307373046875, 106.41573333740234, 139.42352294921875, 158.49114990234375], 'area': 22097.39453125, 'score': 0.678696870803833}, {'id': 15, 'category_id': 1, 'bbox': [107.931884765625, 116.54373931884766, 156.15533447265625, 135.84646606445312], 'area': 21213.150390625, 'score': 0.6569921970367432}], 'output_file': '/home/mohanar2/pdg-extractors/rcnn_iwp_inference_slurm/output_images_masked/FID_303_Polygon_1_masked.jpg'}, {'file': 'FID_291_Polygon_1.jpg', 'metadata': [{'id': 1, 'category_id': 1, 'bbox': [174.0355224609375, 251.61325073242188, 158.00027465820312, 169.319091796875], 'area': 26752.462890625, 'score': 0.995197594165802}, {'id': 2, 'category_id': 1, 'bbox': [81.1544189453125, 199.64361572265625, 128.36685180664062, 129.99774169921875], 'area': 16687.400390625, 'score': 0.9934070110321045}, {'id': 3, 'category_id': 1, 'bbox': [318.70819091796875, 382.1974792480469, 215.5845947265625, 164.17257690429688], 'area': 35393.078125, 'score': 0.9914801120758057}, {'id': 4, 'category_id': 1, 'bbox': [76.34298706054688, 338.38470458984375, 164.76483154296875, 183.6053466796875], 'area': 30251.703125, 'score': 0.9893084764480591}, {'id': 5, 'category_id': 1, 'bbox': [279.7891540527344, 42.519325256347656, 120.26556396484375, 156.93099975585938], 'area': 18873.39453125, 'score': 0.9886539578437805}, {'id': 6, 'category_id': 1, 'bbox': [168.94296264648438, 472.41796875, 166.0880126953125, 142.58203125], 'area': 23681.166015625, 'score': 0.9861351251602173}, {'id': 7, 'category_id': 1, 'bbox': [2.736175537109375, 281.4697265625, 115.05060577392578, 105.165283203125], 'area': 12099.3291015625, 'score': 0.9831363558769226}, {'id': 8, 'category_id': 1, 'bbox': [380.77655029296875, 187.50213623046875, 140.85418701171875, 172.47259521484375], 'area': 24293.486328125, 'score': 0.9799356460571289}, {'id': 9, 'category_id': 1, 'bbox': [4.240550994873047, 65.26371765136719, 110.17626953125, 126.77713012695312], 'area': 13967.8310546875, 'score': 0.9775193929672241}, {'id': 10, 'category_id': 1, 'bbox': [98.68936157226562, 67.52128601074219, 127.14712524414062, 154.25979614257812], 'area': 19613.689453125, 'score': 0.9744279980659485}, {'id': 11, 'category_id': 1, 'bbox': [200.6484832763672, 147.31813049316406, 120.38075256347656, 114.80476379394531], 'area': 13820.2841796875, 'score': 0.9640378355979919}, {'id': 12, 'category_id': 1, 'bbox': [387.6658020019531, 6.005592346191406, 223.80807495117188, 202.464599609375], 'area': 45313.2109375, 'score': 0.9480863213539124}, {'id': 13, 'category_id': 1, 'bbox': [354.7969665527344, 18.275333404541016, 86.37420654296875, 103.66229248046875], 'area': 8953.748046875, 'score': 0.9373805522918701}, {'id': 14, 'category_id': 1, 'bbox': [483.1156005859375, 476.377197265625, 172.8843994140625, 136.3087158203125], 'area': 23565.650390625, 'score': 0.9343979358673096}, {'id': 15, 'category_id': 1, 'bbox': [306.737548828125, 213.92295837402344, 191.501220703125, 204.8659210205078], 'area': 39232.07421875, 'score': 0.9043936133384705}, {'id': 16, 'category_id': 1, 'bbox': [223.13223266601562, 398.6614990234375, 99.673828125, 93.0128173828125], 'area': 9270.943359375, 'score': 0.8624306917190552}, {'id': 17, 'category_id': 1, 'bbox': [314.5162353515625, 171.08111572265625, 77.65325927734375, 81.42578125], 'area': 6322.9775390625, 'score': 0.8503895998001099}, {'id': 18, 'category_id': 1, 'bbox': [211.77276611328125, 74.8406982421875, 79.40185546875, 109.4976806640625], 'area': 8694.3193359375, 'score': 0.8478033542633057}, {'id': 19, 'category_id': 1, 'bbox': [519.2999877929688, 269.3394775390625, 97.01611328125, 207.46966552734375], 'area': 20127.900390625, 'score': 0.8398418426513672}, {'id': 20, 'category_id': 1, 'bbox': [0.0, 175.00729370117188, 92.6614990234375, 111.740966796875], 'area': 10354.0859375, 'score': 0.8144518136978149}, {'id': 21, 'category_id': 1, 'bbox': [497.82769775390625, 12.04107666015625, 145.1405029296875, 122.02084350585938], 'area': 17710.166015625, 'score': 0.8091788291931152}, {'id': 22, 'category_id': 1, 'bbox': [503.2934875488281, 168.57479858398438, 152.70651245117188, 154.04446411132812], 'area': 23523.59375, 'score': 0.7372035384178162}, {'id': 23, 'category_id': 1, 'bbox': [53.40282440185547, 0.0, 152.86978149414062, 117.43910217285156], 'area': 17952.890625, 'score': 0.6587313413619995}, {'id': 24, 'category_id': 1, 'bbox': [0.0, 349.65869140625, 97.45825958251953, 180.81414794921875], 'area': 17621.83203125, 'score': 0.6285638213157654}], 'output_file': '/home/mohanar2/pdg-extractors/rcnn_iwp_inference_slurm/output_images_masked/FID_291_Polygon_1_masked.jpg'}, {'file': 'FID_294_Polygon_1.jpg', 'metadata': [{'id': 1, 'category_id': 1, 'bbox': [167.09774780273438, 509.9283142089844, 89.68051147460938, 96.70626831054688], 'area': 8672.66796875, 'score': 0.9912494421005249}, {'id': 2, 'category_id': 1, 'bbox': [139.29107666015625, 398.41986083984375, 118.97402954101562, 117.224609375], 'area': 13946.6845703125, 'score': 0.9890214800834656}, {'id': 3, 'category_id': 1, 'bbox': [329.1108703613281, 145.85305786132812, 110.09765625, 120.99462890625], 'area': 13321.224609375, 'score': 0.9882535934448242}, {'id': 4, 'category_id': 1, 'bbox': [143.03897094726562, 290.83319091796875, 120.94580078125, 100.12567138671875], 'area': 12109.779296875, 'score': 0.9853453040122986}, {'id': 5, 'category_id': 1, 'bbox': [528.9803466796875, 203.7852325439453, 124.7860107421875, 122.31892395019531], 'area': 15263.6904296875, 'score': 0.9751948714256287}, {'id': 6, 'category_id': 1, 'bbox': [443.6682434082031, 187.3681640625, 96.24807739257812, 138.0645751953125], 'area': 13288.4501953125, 'score': 0.9644695520401001}, {'id': 7, 'category_id': 1, 'bbox': [535.1956787109375, 521.99853515625, 96.0601806640625, 81.0260009765625], 'area': 7783.3720703125, 'score': 0.964409589767456}, {'id': 8, 'category_id': 1, 'bbox': [459.8620300292969, 45.98101806640625, 106.67550659179688, 142.1719207763672], 'area': 15166.26171875, 'score': 0.9640370607376099}, {'id': 9, 'category_id': 1, 'bbox': [28.533924102783203, 136.038818359375, 97.17658996582031, 114.7449951171875], 'area': 11150.52734375, 'score': 0.96268630027771}, {'id': 10, 'category_id': 1, 'bbox': [267.15826416015625, 314.5385437011719, 190.057373046875, 120.466552734375], 'area': 22895.556640625, 'score': 0.9606919288635254}, {'id': 11, 'category_id': 1, 'bbox': [291.35345458984375, 211.5178985595703, 129.7501220703125, 108.74394226074219], 'area': 14109.5400390625, 'score': 0.9557352662086487}, {'id': 12, 'category_id': 1, 'bbox': [415.49456787109375, 324.5516662597656, 179.74249267578125, 218.21041870117188], 'area': 39221.68359375, 'score': 0.9387933015823364}, {'id': 13, 'category_id': 1, 'bbox': [109.09834289550781, 41.230201721191406, 159.46031188964844, 199.44839477539062], 'area': 31804.103515625, 'score': 0.9373146295547485}, {'id': 14, 'category_id': 1, 'bbox': [245.45640563964844, 495.9239501953125, 153.7050323486328, 154.416748046875], 'area': 23734.630859375, 'score': 0.9343842267990112}, {'id': 15, 'category_id': 1, 'bbox': [566.1953125, 97.94803619384766, 89.8046875, 119.9587631225586], 'area': 10772.859375, 'score': 0.9339264631271362}, {'id': 16, 'category_id': 1, 'bbox': [257.48388671875, 55.56229782104492, 88.80767822265625, 119.88084411621094], 'area': 10646.33984375, 'score': 0.9310770034790039}, {'id': 17, 'category_id': 1, 'bbox': [63.68317794799805, 499.0601806640625, 100.52593994140625, 98.0499267578125], 'area': 9856.5615234375, 'score': 0.9121943712234497}, {'id': 18, 'category_id': 1, 'bbox': [11.127540588378906, 414.7708740234375, 126.57610321044922, 92.552978515625], 'area': 11714.9951171875, 'score': 0.8950572609901428}, {'id': 19, 'category_id': 1, 'bbox': [257.264404296875, 410.6598815917969, 150.56695556640625, 105.11734008789062], 'area': 15827.1982421875, 'score': 0.8861182928085327}, {'id': 20, 'category_id': 1, 'bbox': [162.8819122314453, 194.85890197753906, 130.6280975341797, 99.74165344238281], 'area': 13029.0625, 'score': 0.850147545337677}, {'id': 21, 'category_id': 1, 'bbox': [63.6851692199707, 270.6871032714844, 86.10641479492188, 133.61883544921875], 'area': 11505.4384765625, 'score': 0.8045642375946045}, {'id': 22, 'category_id': 1, 'bbox': [278.70184326171875, 318.39617919921875, 109.0849609375, 104.16748046875], 'area': 11363.10546875, 'score': 0.7663074731826782}, {'id': 23, 'category_id': 1, 'bbox': [468.72491455078125, 511.5139465332031, 83.99212646484375, 125.71810913085938], 'area': 10559.3310546875, 'score': 0.6601294875144958}, {'id': 24, 'category_id': 1, 'bbox': [11.750194549560547, 507.8907165527344, 66.68370056152344, 75.31838989257812], 'area': 5022.5087890625, 'score': 0.6441229581832886}], 'output_file': '/home/mohanar2/pdg-extractors/rcnn_iwp_inference_slurm/output_images_masked/FID_294_Polygon_1_masked.jpg'}]\n"
     ]
    }
   ],
   "source": [
    "print(results)"
   ]
  },
  {
   "cell_type": "code",
   "execution_count": null,
   "metadata": {},
   "outputs": [],
   "source": []
  }
 ],
 "metadata": {
  "kernelspec": {
   "display_name": "clowderenv",
   "language": "python",
   "name": "python3"
  },
  "language_info": {
   "codemirror_mode": {
    "name": "ipython",
    "version": 3
   },
   "file_extension": ".py",
   "mimetype": "text/x-python",
   "name": "python",
   "nbconvert_exporter": "python",
   "pygments_lexer": "ipython3",
   "version": "3.10.16"
  }
 },
 "nbformat": 4,
 "nbformat_minor": 2
}
